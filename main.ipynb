{
 "cells": [
  {
   "cell_type": "code",
   "execution_count": 1,
   "metadata": {},
   "outputs": [],
   "source": [
    "import numpy as np\n",
    "import pandas as pd\n",
    "from sklearn.tree import DecisionTreeClassifier, export_graphviz\n",
    "from sklearn.model_selection import train_test_split\n",
    "from sklearn.preprocessing import LabelEncoder\n",
    "from sklearn.metrics import accuracy_score, f1_score, roc_auc_score\n",
    "import warnings\n",
    "warnings.filterwarnings(\"ignore\", category=FutureWarning)"
   ]
  },
  {
   "cell_type": "code",
   "execution_count": 6,
   "metadata": {},
   "outputs": [
    {
     "data": {
      "text/html": [
       "<div>\n",
       "<style scoped>\n",
       "    .dataframe tbody tr th:only-of-type {\n",
       "        vertical-align: middle;\n",
       "    }\n",
       "\n",
       "    .dataframe tbody tr th {\n",
       "        vertical-align: top;\n",
       "    }\n",
       "\n",
       "    .dataframe thead th {\n",
       "        text-align: right;\n",
       "    }\n",
       "</style>\n",
       "<table border=\"1\" class=\"dataframe\">\n",
       "  <thead>\n",
       "    <tr style=\"text-align: right;\">\n",
       "      <th></th>\n",
       "      <th>X1_ActualPosition</th>\n",
       "      <th>X1_ActualVelocity</th>\n",
       "      <th>X1_ActualAcceleration</th>\n",
       "      <th>X1_CommandPosition</th>\n",
       "      <th>X1_CommandVelocity</th>\n",
       "      <th>X1_CommandAcceleration</th>\n",
       "      <th>X1_CurrentFeedback</th>\n",
       "      <th>X1_DCBusVoltage</th>\n",
       "      <th>X1_OutputCurrent</th>\n",
       "      <th>X1_OutputVoltage</th>\n",
       "      <th>...</th>\n",
       "      <th>S1_DCBusVoltage</th>\n",
       "      <th>S1_OutputCurrent</th>\n",
       "      <th>S1_OutputVoltage</th>\n",
       "      <th>S1_OutputPower</th>\n",
       "      <th>S1_SystemInertia</th>\n",
       "      <th>M1_CURRENT_PROGRAM_NUMBER</th>\n",
       "      <th>M1_sequence_number</th>\n",
       "      <th>M1_CURRENT_FEEDRATE</th>\n",
       "      <th>Machining_Process</th>\n",
       "      <th>target</th>\n",
       "    </tr>\n",
       "  </thead>\n",
       "  <tbody>\n",
       "    <tr>\n",
       "      <th>0</th>\n",
       "      <td>198.0</td>\n",
       "      <td>0.0</td>\n",
       "      <td>0.00</td>\n",
       "      <td>198.0</td>\n",
       "      <td>0.0</td>\n",
       "      <td>0.000000</td>\n",
       "      <td>0.18</td>\n",
       "      <td>0.0207</td>\n",
       "      <td>329.0</td>\n",
       "      <td>2.77</td>\n",
       "      <td>...</td>\n",
       "      <td>2.740000e-19</td>\n",
       "      <td>329.0</td>\n",
       "      <td>0.0</td>\n",
       "      <td>6.960000e-07</td>\n",
       "      <td>12.0</td>\n",
       "      <td>1.0</td>\n",
       "      <td>0.0</td>\n",
       "      <td>50.0</td>\n",
       "      <td>Starting</td>\n",
       "      <td>0</td>\n",
       "    </tr>\n",
       "    <tr>\n",
       "      <th>1</th>\n",
       "      <td>198.0</td>\n",
       "      <td>-10.8</td>\n",
       "      <td>-350.00</td>\n",
       "      <td>198.0</td>\n",
       "      <td>-13.6</td>\n",
       "      <td>-358.000000</td>\n",
       "      <td>-10.90</td>\n",
       "      <td>0.1860</td>\n",
       "      <td>328.0</td>\n",
       "      <td>23.30</td>\n",
       "      <td>...</td>\n",
       "      <td>2.740000e-19</td>\n",
       "      <td>328.0</td>\n",
       "      <td>0.0</td>\n",
       "      <td>-5.270000e-07</td>\n",
       "      <td>12.0</td>\n",
       "      <td>1.0</td>\n",
       "      <td>4.0</td>\n",
       "      <td>50.0</td>\n",
       "      <td>Prep</td>\n",
       "      <td>0</td>\n",
       "    </tr>\n",
       "    <tr>\n",
       "      <th>2</th>\n",
       "      <td>196.0</td>\n",
       "      <td>-17.8</td>\n",
       "      <td>-6.25</td>\n",
       "      <td>196.0</td>\n",
       "      <td>-17.9</td>\n",
       "      <td>-0.000095</td>\n",
       "      <td>-8.59</td>\n",
       "      <td>0.1400</td>\n",
       "      <td>328.0</td>\n",
       "      <td>30.60</td>\n",
       "      <td>...</td>\n",
       "      <td>2.740000e-19</td>\n",
       "      <td>328.0</td>\n",
       "      <td>0.0</td>\n",
       "      <td>9.100000e-07</td>\n",
       "      <td>12.0</td>\n",
       "      <td>1.0</td>\n",
       "      <td>7.0</td>\n",
       "      <td>50.0</td>\n",
       "      <td>Prep</td>\n",
       "      <td>0</td>\n",
       "    </tr>\n",
       "    <tr>\n",
       "      <th>3</th>\n",
       "      <td>194.0</td>\n",
       "      <td>-18.0</td>\n",
       "      <td>0.00</td>\n",
       "      <td>194.0</td>\n",
       "      <td>-17.9</td>\n",
       "      <td>-0.000095</td>\n",
       "      <td>-6.11</td>\n",
       "      <td>0.1300</td>\n",
       "      <td>327.0</td>\n",
       "      <td>30.30</td>\n",
       "      <td>...</td>\n",
       "      <td>2.740000e-19</td>\n",
       "      <td>328.0</td>\n",
       "      <td>0.0</td>\n",
       "      <td>1.070000e-06</td>\n",
       "      <td>12.0</td>\n",
       "      <td>1.0</td>\n",
       "      <td>7.0</td>\n",
       "      <td>50.0</td>\n",
       "      <td>Prep</td>\n",
       "      <td>0</td>\n",
       "    </tr>\n",
       "    <tr>\n",
       "      <th>4</th>\n",
       "      <td>193.0</td>\n",
       "      <td>-17.9</td>\n",
       "      <td>-18.80</td>\n",
       "      <td>192.0</td>\n",
       "      <td>-17.9</td>\n",
       "      <td>0.000095</td>\n",
       "      <td>-5.70</td>\n",
       "      <td>0.1140</td>\n",
       "      <td>328.0</td>\n",
       "      <td>30.50</td>\n",
       "      <td>...</td>\n",
       "      <td>2.740000e-19</td>\n",
       "      <td>328.0</td>\n",
       "      <td>0.0</td>\n",
       "      <td>1.960000e-06</td>\n",
       "      <td>12.0</td>\n",
       "      <td>1.0</td>\n",
       "      <td>7.0</td>\n",
       "      <td>50.0</td>\n",
       "      <td>Prep</td>\n",
       "      <td>0</td>\n",
       "    </tr>\n",
       "  </tbody>\n",
       "</table>\n",
       "<p>5 rows × 49 columns</p>\n",
       "</div>"
      ],
      "text/plain": [
       "   X1_ActualPosition  X1_ActualVelocity  X1_ActualAcceleration  \\\n",
       "0              198.0                0.0                   0.00   \n",
       "1              198.0              -10.8                -350.00   \n",
       "2              196.0              -17.8                  -6.25   \n",
       "3              194.0              -18.0                   0.00   \n",
       "4              193.0              -17.9                 -18.80   \n",
       "\n",
       "   X1_CommandPosition  X1_CommandVelocity  X1_CommandAcceleration  \\\n",
       "0               198.0                 0.0                0.000000   \n",
       "1               198.0               -13.6             -358.000000   \n",
       "2               196.0               -17.9               -0.000095   \n",
       "3               194.0               -17.9               -0.000095   \n",
       "4               192.0               -17.9                0.000095   \n",
       "\n",
       "   X1_CurrentFeedback  X1_DCBusVoltage  X1_OutputCurrent  X1_OutputVoltage  \\\n",
       "0                0.18           0.0207             329.0              2.77   \n",
       "1              -10.90           0.1860             328.0             23.30   \n",
       "2               -8.59           0.1400             328.0             30.60   \n",
       "3               -6.11           0.1300             327.0             30.30   \n",
       "4               -5.70           0.1140             328.0             30.50   \n",
       "\n",
       "   ...  S1_DCBusVoltage  S1_OutputCurrent  S1_OutputVoltage  S1_OutputPower  \\\n",
       "0  ...     2.740000e-19             329.0               0.0    6.960000e-07   \n",
       "1  ...     2.740000e-19             328.0               0.0   -5.270000e-07   \n",
       "2  ...     2.740000e-19             328.0               0.0    9.100000e-07   \n",
       "3  ...     2.740000e-19             328.0               0.0    1.070000e-06   \n",
       "4  ...     2.740000e-19             328.0               0.0    1.960000e-06   \n",
       "\n",
       "   S1_SystemInertia  M1_CURRENT_PROGRAM_NUMBER  M1_sequence_number  \\\n",
       "0              12.0                        1.0                 0.0   \n",
       "1              12.0                        1.0                 4.0   \n",
       "2              12.0                        1.0                 7.0   \n",
       "3              12.0                        1.0                 7.0   \n",
       "4              12.0                        1.0                 7.0   \n",
       "\n",
       "   M1_CURRENT_FEEDRATE  Machining_Process  target  \n",
       "0                 50.0           Starting       0  \n",
       "1                 50.0               Prep       0  \n",
       "2                 50.0               Prep       0  \n",
       "3                 50.0               Prep       0  \n",
       "4                 50.0               Prep       0  \n",
       "\n",
       "[5 rows x 49 columns]"
      ]
     },
     "execution_count": 6,
     "metadata": {},
     "output_type": "execute_result"
    }
   ],
   "source": [
    "frames = list()\n",
    "results = pd.read_csv(\"input/train.csv\")\n",
    "\n",
    "for i in range(1,19):\n",
    "    exp = '0' + str(i) if i < 10 else str(i)\n",
    "    frame = pd.read_csv(\"input/experiment_{}.csv\".format(exp))\n",
    "    row = results[results['No'] == i]\n",
    "    frame['target'] = 1 if row.iloc[0]['tool_condition'] == 'worn' else 0\n",
    "    frames.append(frame)\n",
    "\n",
    "df = pd.concat(frames, ignore_index = True)\n",
    "df.head()"
   ]
  },
  {
   "cell_type": "code",
   "execution_count": 15,
   "metadata": {},
   "outputs": [],
   "source": [
    "# Transform process name in number\n",
    "le = LabelEncoder()\n",
    "le.fit(df['Machining_Process'])\n",
    "df['Machining_Process'] = le.transform(df['Machining_Process'])\n",
    "\n",
    "\n"
   ]
  },
  {
   "cell_type": "code",
   "execution_count": 18,
   "metadata": {},
   "outputs": [
    {
     "data": {
      "text/plain": [
       "(25286, 49)"
      ]
     },
     "execution_count": 18,
     "metadata": {},
     "output_type": "execute_result"
    }
   ],
   "source": [
    "df.shape"
   ]
  },
  {
   "cell_type": "code",
   "execution_count": 17,
   "metadata": {},
   "outputs": [],
   "source": [
    "# Create np arrays and split train/test sets\n",
    "y = np.array(df['target'])\n",
    "x = df.drop('target', axis=1).values\n",
    "x_train, x_test, y_train, y_test = train_test_split(x, y, train_size=0.8, random_state=1)\n"
   ]
  },
  {
   "cell_type": "code",
   "execution_count": 26,
   "metadata": {},
   "outputs": [
    {
     "name": "stdout",
     "output_type": "stream",
     "text": [
      "(20228, 48) (5058, 48)\n"
     ]
    }
   ],
   "source": [
    "print(x_train.shape, x_test.shape)"
   ]
  },
  {
   "cell_type": "code",
   "execution_count": 16,
   "metadata": {},
   "outputs": [
    {
     "name": "stdout",
     "output_type": "stream",
     "text": [
      "Target distribution - 1 worn; 0 unworn:\n",
      "target\n",
      "1    13308\n",
      "0    11978\n",
      "Name: count, dtype: int64\n"
     ]
    }
   ],
   "source": [
    "# Target distribution (count values)\n",
    "print(\"Target distribution - 1 worn; 0 unworn:\")\n",
    "print(df['target'].value_counts())"
   ]
  },
  {
   "cell_type": "code",
   "execution_count": 34,
   "metadata": {},
   "outputs": [
    {
     "data": {
      "text/plain": [
       "<bound method NDFrame.head of        X1_ActualPosition  X1_ActualVelocity  X1_ActualAcceleration  \\\n",
       "0                  198.0               0.00                   0.00   \n",
       "1                  198.0             -10.80                -350.00   \n",
       "2                  196.0             -17.80                  -6.25   \n",
       "3                  194.0             -18.00                   0.00   \n",
       "4                  193.0             -17.90                 -18.80   \n",
       "...                  ...                ...                    ...   \n",
       "25281              144.0              -2.30                 100.00   \n",
       "25282              144.0              -2.47                  25.00   \n",
       "25283              143.0              -2.20                  81.20   \n",
       "25284              143.0              -2.05                  68.70   \n",
       "25285              143.0              -2.15                 -68.70   \n",
       "\n",
       "       X1_CommandPosition  X1_CommandVelocity  X1_CommandAcceleration  \\\n",
       "0                   198.0                0.00                0.000000   \n",
       "1                   198.0              -13.60             -358.000000   \n",
       "2                   196.0              -17.90               -0.000095   \n",
       "3                   194.0              -17.90               -0.000095   \n",
       "4                   192.0              -17.90                0.000095   \n",
       "...                   ...                 ...                     ...   \n",
       "25281               144.0               -2.57                0.977000   \n",
       "25282               144.0               -2.46                1.080000   \n",
       "25283               143.0               -2.35                1.170000   \n",
       "25284               143.0               -2.23                1.260000   \n",
       "25285               143.0               -2.09                1.350000   \n",
       "\n",
       "       X1_CurrentFeedback  X1_DCBusVoltage  X1_OutputCurrent  \\\n",
       "0                    0.18           0.0207             329.0   \n",
       "1                  -10.90           0.1860             328.0   \n",
       "2                   -8.59           0.1400             328.0   \n",
       "3                   -6.11           0.1300             327.0   \n",
       "4                   -5.70           0.1140             328.0   \n",
       "...                   ...              ...               ...   \n",
       "25281               -5.05           0.0732             327.0   \n",
       "25282               -5.62           0.0996             327.0   \n",
       "25283               -4.42           0.0539             327.0   \n",
       "25284               -5.83           0.0809             327.0   \n",
       "25285               -4.37           0.0857             327.0   \n",
       "\n",
       "       X1_OutputVoltage  ...  S1_DCBusVoltage  S1_OutputCurrent  \\\n",
       "0                  2.77  ...     2.740000e-19             329.0   \n",
       "1                 23.30  ...     2.740000e-19             328.0   \n",
       "2                 30.60  ...     2.740000e-19             328.0   \n",
       "3                 30.30  ...     2.740000e-19             328.0   \n",
       "4                 30.50  ...     2.740000e-19             328.0   \n",
       "...                 ...  ...              ...               ...   \n",
       "25281              9.56  ...     8.260000e-01             323.0   \n",
       "25282             10.30  ...     9.710000e-01             320.0   \n",
       "25283              7.79  ...     9.500000e-01             322.0   \n",
       "25284              8.32  ...     9.590000e-01             322.0   \n",
       "25285              8.01  ...     9.890000e-01             320.0   \n",
       "\n",
       "       S1_OutputVoltage  S1_OutputPower  S1_SystemInertia  \\\n",
       "0                   0.0    6.960000e-07              12.0   \n",
       "1                   0.0   -5.270000e-07              12.0   \n",
       "2                   0.0    9.100000e-07              12.0   \n",
       "3                   0.0    1.070000e-06              12.0   \n",
       "4                   0.0    1.960000e-06              12.0   \n",
       "...                 ...             ...               ...   \n",
       "25281             118.0    1.580000e-01              12.0   \n",
       "25282             119.0    1.870000e-01              12.0   \n",
       "25283             119.0    1.820000e-01              12.0   \n",
       "25284             118.0    1.820000e-01              12.0   \n",
       "25285             119.0    1.910000e-01              12.0   \n",
       "\n",
       "       M1_CURRENT_PROGRAM_NUMBER  M1_sequence_number  M1_CURRENT_FEEDRATE  \\\n",
       "0                            1.0                 0.0                 50.0   \n",
       "1                            1.0                 4.0                 50.0   \n",
       "2                            1.0                 7.0                 50.0   \n",
       "3                            1.0                 7.0                 50.0   \n",
       "4                            1.0                 7.0                 50.0   \n",
       "...                          ...                 ...                  ...   \n",
       "25281                        1.0                57.0                  3.0   \n",
       "25282                        1.0                57.0                  3.0   \n",
       "25283                        1.0                57.0                  3.0   \n",
       "25284                        1.0                57.0                  3.0   \n",
       "25285                        1.0                57.0                  3.0   \n",
       "\n",
       "       Machining_Process  target  \n",
       "0                      9       0  \n",
       "1                      7       0  \n",
       "2                      7       0  \n",
       "3                      7       0  \n",
       "4                      7       0  \n",
       "...                  ...     ...  \n",
       "25281                  0       1  \n",
       "25282                  0       1  \n",
       "25283                  0       1  \n",
       "25284                  0       1  \n",
       "25285                  0       1  \n",
       "\n",
       "[25286 rows x 49 columns]>"
      ]
     },
     "execution_count": 34,
     "metadata": {},
     "output_type": "execute_result"
    }
   ],
   "source": [
    "df.head"
   ]
  },
  {
   "cell_type": "code",
   "execution_count": null,
   "metadata": {},
   "outputs": [],
   "source": [
    "for col in [\"feedrate\",\"clamp_pressure\",\"tool_condition\", \"machining_finalized\", \"passed_visual_inspection\"]:\n",
    "    column = []\n",
    "    for i in range(18):\n",
    "        column.extend([train[col][i]]*(counts[i]))\n",
    "    final_data[col] = column"
   ]
  },
  {
   "cell_type": "code",
   "execution_count": 43,
   "metadata": {},
   "outputs": [
    {
     "ename": "KeyError",
     "evalue": "'tool_condition'",
     "output_type": "error",
     "traceback": [
      "\u001b[0;31m---------------------------------------------------------------------------\u001b[0m",
      "\u001b[0;31mKeyError\u001b[0m                                  Traceback (most recent call last)",
      "\u001b[0;32m/tmp/ipykernel_20866/2425109314.py\u001b[0m in \u001b[0;36m?\u001b[0;34m()\u001b[0m\n\u001b[1;32m      4\u001b[0m \u001b[0msns\u001b[0m\u001b[0;34m.\u001b[0m\u001b[0mset\u001b[0m\u001b[0;34m(\u001b[0m\u001b[0;34m)\u001b[0m\u001b[0;34m\u001b[0m\u001b[0;34m\u001b[0m\u001b[0m\n\u001b[1;32m      5\u001b[0m \u001b[0mfig\u001b[0m\u001b[0;34m,\u001b[0m \u001b[0max\u001b[0m \u001b[0;34m=\u001b[0m \u001b[0mplt\u001b[0m\u001b[0;34m.\u001b[0m\u001b[0msubplots\u001b[0m\u001b[0;34m(\u001b[0m\u001b[0mfigsize\u001b[0m\u001b[0;34m=\u001b[0m\u001b[0;34m(\u001b[0m\u001b[0;36m15\u001b[0m\u001b[0;34m,\u001b[0m\u001b[0;36m15\u001b[0m\u001b[0;34m)\u001b[0m\u001b[0;34m)\u001b[0m\u001b[0;34m\u001b[0m\u001b[0;34m\u001b[0m\u001b[0m\n\u001b[1;32m      6\u001b[0m \u001b[0ma\u001b[0m \u001b[0;34m=\u001b[0m \u001b[0mdf\u001b[0m\u001b[0;34m.\u001b[0m\u001b[0mcorr\u001b[0m\u001b[0;34m(\u001b[0m\u001b[0;34m)\u001b[0m\u001b[0;34m\u001b[0m\u001b[0;34m\u001b[0m\u001b[0m\n\u001b[1;32m      7\u001b[0m \u001b[0ma\u001b[0m \u001b[0;34m=\u001b[0m \u001b[0mabs\u001b[0m\u001b[0;34m(\u001b[0m\u001b[0ma\u001b[0m\u001b[0;34m)\u001b[0m\u001b[0;34m\u001b[0m\u001b[0;34m\u001b[0m\u001b[0m\n\u001b[0;32m----> 8\u001b[0;31m \u001b[0ma\u001b[0m\u001b[0;34m.\u001b[0m\u001b[0msort_values\u001b[0m\u001b[0;34m(\u001b[0m\u001b[0mby\u001b[0m \u001b[0;34m=\u001b[0m \u001b[0;34m[\u001b[0m\u001b[0;34m\"tool_condition\"\u001b[0m\u001b[0;34m]\u001b[0m\u001b[0;34m,\u001b[0m \u001b[0mascending\u001b[0m\u001b[0;34m=\u001b[0m\u001b[0;32mFalse\u001b[0m\u001b[0;34m,\u001b[0m \u001b[0minplace\u001b[0m\u001b[0;34m=\u001b[0m\u001b[0;32mTrue\u001b[0m\u001b[0;34m)\u001b[0m\u001b[0;34m\u001b[0m\u001b[0;34m\u001b[0m\u001b[0m\n\u001b[0m\u001b[1;32m      9\u001b[0m \u001b[0mx\u001b[0m \u001b[0;34m=\u001b[0m \u001b[0ma\u001b[0m\u001b[0;34m[\u001b[0m\u001b[0;34m\"tool_condition\"\u001b[0m\u001b[0;34m]\u001b[0m\u001b[0;34m[\u001b[0m\u001b[0;36m1\u001b[0m\u001b[0;34m:\u001b[0m\u001b[0;34m]\u001b[0m\u001b[0;34m\u001b[0m\u001b[0;34m\u001b[0m\u001b[0m\n\u001b[1;32m     10\u001b[0m \u001b[0my\u001b[0m \u001b[0;34m=\u001b[0m \u001b[0ma\u001b[0m\u001b[0;34m.\u001b[0m\u001b[0mindex\u001b[0m\u001b[0;34m[\u001b[0m\u001b[0;36m1\u001b[0m\u001b[0;34m:\u001b[0m\u001b[0;34m]\u001b[0m\u001b[0;34m\u001b[0m\u001b[0;34m\u001b[0m\u001b[0m\n\u001b[1;32m     11\u001b[0m \u001b[0;31m#print(len(x), len(y))\u001b[0m\u001b[0;34m\u001b[0m\u001b[0;34m\u001b[0m\u001b[0m\n",
      "\u001b[0;32m~/.local/lib/python3.10/site-packages/pandas/core/frame.py\u001b[0m in \u001b[0;36m?\u001b[0;34m(self, by, axis, ascending, inplace, kind, na_position, ignore_index, key)\u001b[0m\n\u001b[1;32m   6754\u001b[0m         \u001b[0;32melif\u001b[0m \u001b[0mlen\u001b[0m\u001b[0;34m(\u001b[0m\u001b[0mby\u001b[0m\u001b[0;34m)\u001b[0m\u001b[0;34m:\u001b[0m\u001b[0;34m\u001b[0m\u001b[0;34m\u001b[0m\u001b[0m\n\u001b[1;32m   6755\u001b[0m             \u001b[0;31m# len(by) == 1\u001b[0m\u001b[0;34m\u001b[0m\u001b[0;34m\u001b[0m\u001b[0m\n\u001b[1;32m   6756\u001b[0m \u001b[0;34m\u001b[0m\u001b[0m\n\u001b[1;32m   6757\u001b[0m             \u001b[0mby\u001b[0m \u001b[0;34m=\u001b[0m \u001b[0mby\u001b[0m\u001b[0;34m[\u001b[0m\u001b[0;36m0\u001b[0m\u001b[0;34m]\u001b[0m\u001b[0;34m\u001b[0m\u001b[0;34m\u001b[0m\u001b[0m\n\u001b[0;32m-> 6758\u001b[0;31m             \u001b[0mk\u001b[0m \u001b[0;34m=\u001b[0m \u001b[0mself\u001b[0m\u001b[0;34m.\u001b[0m\u001b[0m_get_label_or_level_values\u001b[0m\u001b[0;34m(\u001b[0m\u001b[0mby\u001b[0m\u001b[0;34m,\u001b[0m \u001b[0maxis\u001b[0m\u001b[0;34m=\u001b[0m\u001b[0maxis\u001b[0m\u001b[0;34m)\u001b[0m\u001b[0;34m\u001b[0m\u001b[0;34m\u001b[0m\u001b[0m\n\u001b[0m\u001b[1;32m   6759\u001b[0m \u001b[0;34m\u001b[0m\u001b[0m\n\u001b[1;32m   6760\u001b[0m             \u001b[0;31m# need to rewrap column in Series to apply key function\u001b[0m\u001b[0;34m\u001b[0m\u001b[0;34m\u001b[0m\u001b[0m\n\u001b[1;32m   6761\u001b[0m             \u001b[0;32mif\u001b[0m \u001b[0mkey\u001b[0m \u001b[0;32mis\u001b[0m \u001b[0;32mnot\u001b[0m \u001b[0;32mNone\u001b[0m\u001b[0;34m:\u001b[0m\u001b[0;34m\u001b[0m\u001b[0;34m\u001b[0m\u001b[0m\n",
      "\u001b[0;32m~/.local/lib/python3.10/site-packages/pandas/core/generic.py\u001b[0m in \u001b[0;36m?\u001b[0;34m(self, key, axis)\u001b[0m\n\u001b[1;32m   1774\u001b[0m             \u001b[0mvalues\u001b[0m \u001b[0;34m=\u001b[0m \u001b[0mself\u001b[0m\u001b[0;34m.\u001b[0m\u001b[0mxs\u001b[0m\u001b[0;34m(\u001b[0m\u001b[0mkey\u001b[0m\u001b[0;34m,\u001b[0m \u001b[0maxis\u001b[0m\u001b[0;34m=\u001b[0m\u001b[0mother_axes\u001b[0m\u001b[0;34m[\u001b[0m\u001b[0;36m0\u001b[0m\u001b[0;34m]\u001b[0m\u001b[0;34m)\u001b[0m\u001b[0;34m.\u001b[0m\u001b[0m_values\u001b[0m\u001b[0;34m\u001b[0m\u001b[0;34m\u001b[0m\u001b[0m\n\u001b[1;32m   1775\u001b[0m         \u001b[0;32melif\u001b[0m \u001b[0mself\u001b[0m\u001b[0;34m.\u001b[0m\u001b[0m_is_level_reference\u001b[0m\u001b[0;34m(\u001b[0m\u001b[0mkey\u001b[0m\u001b[0;34m,\u001b[0m \u001b[0maxis\u001b[0m\u001b[0;34m=\u001b[0m\u001b[0maxis\u001b[0m\u001b[0;34m)\u001b[0m\u001b[0;34m:\u001b[0m\u001b[0;34m\u001b[0m\u001b[0;34m\u001b[0m\u001b[0m\n\u001b[1;32m   1776\u001b[0m             \u001b[0mvalues\u001b[0m \u001b[0;34m=\u001b[0m \u001b[0mself\u001b[0m\u001b[0;34m.\u001b[0m\u001b[0maxes\u001b[0m\u001b[0;34m[\u001b[0m\u001b[0maxis\u001b[0m\u001b[0;34m]\u001b[0m\u001b[0;34m.\u001b[0m\u001b[0mget_level_values\u001b[0m\u001b[0;34m(\u001b[0m\u001b[0mkey\u001b[0m\u001b[0;34m)\u001b[0m\u001b[0;34m.\u001b[0m\u001b[0m_values\u001b[0m\u001b[0;34m\u001b[0m\u001b[0;34m\u001b[0m\u001b[0m\n\u001b[1;32m   1777\u001b[0m         \u001b[0;32melse\u001b[0m\u001b[0;34m:\u001b[0m\u001b[0;34m\u001b[0m\u001b[0;34m\u001b[0m\u001b[0m\n\u001b[0;32m-> 1778\u001b[0;31m             \u001b[0;32mraise\u001b[0m \u001b[0mKeyError\u001b[0m\u001b[0;34m(\u001b[0m\u001b[0mkey\u001b[0m\u001b[0;34m)\u001b[0m\u001b[0;34m\u001b[0m\u001b[0;34m\u001b[0m\u001b[0m\n\u001b[0m\u001b[1;32m   1779\u001b[0m \u001b[0;34m\u001b[0m\u001b[0m\n\u001b[1;32m   1780\u001b[0m         \u001b[0;31m# Check for duplicates\u001b[0m\u001b[0;34m\u001b[0m\u001b[0;34m\u001b[0m\u001b[0m\n\u001b[1;32m   1781\u001b[0m         \u001b[0;32mif\u001b[0m \u001b[0mvalues\u001b[0m\u001b[0;34m.\u001b[0m\u001b[0mndim\u001b[0m \u001b[0;34m>\u001b[0m \u001b[0;36m1\u001b[0m\u001b[0;34m:\u001b[0m\u001b[0;34m\u001b[0m\u001b[0;34m\u001b[0m\u001b[0m\n",
      "\u001b[0;31mKeyError\u001b[0m: 'tool_condition'"
     ]
    },
    {
     "data": {
      "image/png": "[encoded data removed]",
      "text/plain": [
       "<Figure size 1500x1500 with 1 Axes>"
      ]
     },
     "metadata": {},
     "output_type": "display_data"
    }
   ],
   "source": [
    "import seaborn as sns\n",
    "import matplotlib.pyplot as plt\n",
    "\n",
    "sns.set()\n",
    "fig, ax = plt.subplots(figsize=(15,15))\n",
    "a = df.corr()\n",
    "a = abs(a)\n",
    "a.sort_values(by = [\"tool_condition\"], ascending=False, inplace=True)\n",
    "x = a[\"tool_condition\"][1:]\n",
    "y = a.index[1:]\n",
    "#print(len(x), len(y))\n",
    "sns.set()\n",
    "sns.barplot(y,x, ax=ax)\n",
    "ax.tick_params(axis = \"x\", rotation = 90)"
   ]
  },
  {
   "cell_type": "code",
   "execution_count": 35,
   "metadata": {},
   "outputs": [
    {
     "name": "stdout",
     "output_type": "stream",
     "text": [
      "Trained on 20228 observations and scoring with 5058 test samples.\n",
      "Accuracy: 0.9897\n",
      "F1 Score: 0.9901\n",
      "Area under ROC curve: 0.9898\n"
     ]
    }
   ],
   "source": [
    "model = DecisionTreeClassifier()\n",
    "model.fit(x_train, y_train)\n",
    "y_score = model.predict(x_test)\n",
    "print(\"Trained on {0} observations and scoring with {1} test samples.\".format(len(x_train), len(x_test)))\n",
    "print(\"Accuracy: {0:0.4f}\".format(accuracy_score(y_test, y_score)))\n",
    "print(\"F1 Score: {0:0.4f}\".format(f1_score(y_test, y_score)))\n",
    "print(\"Area under ROC curve: {0:0.4f}\".format(roc_auc_score(y_test, y_score)))"
   ]
  },
  {
   "cell_type": "code",
   "execution_count": 14,
   "metadata": {},
   "outputs": [
    {
     "name": "stdout",
     "output_type": "stream",
     "text": [
      "Z1_ActualPosition: 0.6991\n",
      "S1_ActualPosition: 0.0455\n",
      "M1_CURRENT_FEEDRATE: 0.0443\n",
      "Y1_OutputCurrent: 0.0413\n",
      "S1_OutputCurrent: 0.0369\n",
      "Z1_CommandPosition: 0.0287\n",
      "X1_OutputCurrent: 0.0202\n",
      "Z1_CommandVelocity: 0.0177\n",
      "X1_ActualAcceleration: 0.0176\n",
      "X1_DCBusVoltage: 0.0160\n",
      "S1_CommandPosition: 0.0070\n",
      "Machining_Process: 0.0055\n",
      "S1_CurrentFeedback: 0.0023\n",
      "Y1_CommandPosition: 0.0022\n",
      "Y1_CurrentFeedback: 0.0018\n",
      "Z1_ActualVelocity: 0.0016\n",
      "S1_OutputVoltage: 0.0016\n",
      "S1_ActualVelocity: 0.0014\n",
      "M1_sequence_number: 0.0010\n",
      "Z1_ActualAcceleration: 0.0009\n",
      "X1_CurrentFeedback: 0.0009\n",
      "Y1_OutputVoltage: 0.0009\n",
      "X1_OutputVoltage: 0.0008\n",
      "S1_ActualAcceleration: 0.0008\n",
      "Y1_DCBusVoltage: 0.0006\n",
      "Z1_CommandAcceleration: 0.0005\n",
      "S1_DCBusVoltage: 0.0005\n",
      "Y1_ActualAcceleration: 0.0005\n",
      "Y1_ActualVelocity: 0.0004\n",
      "S1_OutputPower: 0.0004\n",
      "X1_OutputPower: 0.0003\n",
      "Y1_CommandVelocity: 0.0002\n",
      "X1_ActualVelocity: 0.0002\n",
      "S1_CommandAcceleration: 0.0001\n",
      "Y1_OutputPower: 0.0001\n",
      "X1_ActualPosition: 0.0000\n",
      "X1_CommandPosition: 0.0000\n",
      "X1_CommandVelocity: 0.0000\n",
      "X1_CommandAcceleration: 0.0000\n",
      "Y1_ActualPosition: 0.0000\n",
      "Y1_CommandAcceleration: 0.0000\n",
      "Z1_CurrentFeedback: 0.0000\n",
      "Z1_DCBusVoltage: 0.0000\n",
      "Z1_OutputCurrent: 0.0000\n",
      "Z1_OutputVoltage: 0.0000\n",
      "S1_CommandVelocity: 0.0000\n",
      "S1_SystemInertia: 0.0000\n",
      "M1_CURRENT_PROGRAM_NUMBER: 0.0000\n"
     ]
    }
   ],
   "source": [
    "# Feature importances\n",
    "features = [(df.columns[i], v) for i,v in enumerate(model.feature_importances_)]\n",
    "features.sort(key=lambda x: x[1], reverse = True)\n",
    "for item in features[:]:\n",
    "    print(\"{0}: {1:0.4f}\".format(item[0], item[1]))"
   ]
  },
  {
   "cell_type": "code",
   "execution_count": 10,
   "metadata": {},
   "outputs": [
    {
     "data": {
      "text/plain": [
       "<Axes: >"
      ]
     },
     "execution_count": 10,
     "metadata": {},
     "output_type": "execute_result"
    },
    {
     "data": {
      "image/png": "[encoded data removed]",
      "text/plain": [
       "<Figure size 640x480 with 1 Axes>"
      ]
     },
     "metadata": {},
     "output_type": "display_data"
    }
   ],
   "source": [
    "# Z Actual Position distribution\n",
    "df['Z1_ActualPosition'].hist()"
   ]
  },
  {
   "cell_type": "code",
   "execution_count": null,
   "metadata": {},
   "outputs": [],
   "source": []
  }
 ],
 "metadata": {
  "kernelspec": {
   "display_name": "Python 3",
   "language": "python",
   "name": "python3"
  },
  "language_info": {
   "codemirror_mode": {
    "name": "ipython",
    "version": 3
   },
   "file_extension": ".py",
   "mimetype": "text/x-python",
   "name": "python",
   "nbconvert_exporter": "python",
   "pygments_lexer": "ipython3",
   "version": "3.10.12"
  }
 },
 "nbformat": 4,
 "nbformat_minor": 2
}
